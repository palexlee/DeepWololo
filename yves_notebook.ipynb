{
 "cells": [
  {
   "cell_type": "code",
   "execution_count": 1,
   "metadata": {},
   "outputs": [],
   "source": [
    "%load_ext autoreload\n",
    "%autoreload 2\n",
    "\n",
    "import torch\n",
    "from torch import nn\n",
    "import torchvision.datasets as datasets\n",
    "import torchvision.models as models\n",
    "import torch.optim as optim\n",
    "from torch.utils.data import DataLoader\n",
    "\n",
    "import sys\n",
    "sys.path.append('./python_files/')\n",
    "from model_trainer import ModelTrainer\n",
    "from utils import *\n",
    "from data_loader import load_data\n",
    "from nn_modules import View\n"
   ]
  },
  {
   "cell_type": "code",
   "execution_count": 2,
   "metadata": {},
   "outputs": [
    {
     "data": {
      "text/plain": [
       "'0.4.1'"
      ]
     },
     "execution_count": 2,
     "metadata": {},
     "output_type": "execute_result"
    }
   ],
   "source": [
    "torch.__version__"
   ]
  },
  {
   "cell_type": "code",
   "execution_count": 3,
   "metadata": {},
   "outputs": [
    {
     "name": "stdout",
     "output_type": "stream",
     "text": [
      "* Using MNIST\n",
      "** Reduce the data-set (use --full for the full thing)\n",
      "** Use 1000 train and 1000 test samples\n"
     ]
    }
   ],
   "source": [
    "train_input, train_target, test_input, test_target = load_data(cifar=False, normalize=True, flatten=False, full=False)\n",
    "train_target = train_target.long()\n",
    "test_target = test_target.long()"
   ]
  },
  {
   "cell_type": "code",
   "execution_count": 4,
   "metadata": {},
   "outputs": [
    {
     "data": {
      "text/plain": [
       "1000"
      ]
     },
     "execution_count": 4,
     "metadata": {},
     "output_type": "execute_result"
    }
   ],
   "source": [
    "len(train_input)"
   ]
  },
  {
   "cell_type": "code",
   "execution_count": 5,
   "metadata": {},
   "outputs": [
    {
     "name": "stdout",
     "output_type": "stream",
     "text": [
      "5\n"
     ]
    },
    {
     "data": {
      "image/png": "[encoded data removed]",
      "text/plain": [
       "<matplotlib.figure.Figure at 0x7fe6f070b7f0>"
      ]
     },
     "metadata": {
      "needs_background": "light"
     },
     "output_type": "display_data"
    }
   ],
   "source": [
    "i = 420\n",
    "plt.imshow(train_input[i, 0, :, :])\n",
    "print(train_target[i].item())"
   ]
  },
  {
   "cell_type": "markdown",
   "metadata": {},
   "source": [
    "## 1) LeNet with disjoint trainset and testset"
   ]
  },
  {
   "cell_type": "code",
   "execution_count": 6,
   "metadata": {},
   "outputs": [],
   "source": [
    "train_dataset = (train_input, train_target)\n",
    "test_dataset = (test_input, test_target)\n",
    "\n",
    "in_channels = train_input.shape[1]\n",
    "out_channels = 10\n",
    "\n",
    "class Net(nn.Module):\n",
    "    def __init__(self):\n",
    "        super(Net, self).__init__()\n",
    "        self.conv1 = nn.Conv2d(1, 32, kernel_size = 5)\n",
    "        self.conv2 = nn.Conv2d(32, 64, kernel_size = 5)\n",
    "        self.fc1 = nn.Linear(256, 200)\n",
    "        self.fc2 = nn.Linear(200, 10)\n",
    "\n",
    "    def forward(self, x):\n",
    "        x = F.relu(F.max_pool2d(self.conv1(x), kernel_size = 3))\n",
    "        x = F.relu(F.max_pool2d(self.conv2(x), kernel_size = 2))\n",
    "        x = x.view(x.size(0), -1)\n",
    "        x = F.relu(self.fc1(x))\n",
    "        x = self.fc2(x)\n",
    "        return x\n",
    "\n",
    "    \n",
    "LeNet_gen = lambda : Net()"
   ]
  },
  {
   "cell_type": "code",
   "execution_count": null,
   "metadata": {},
   "outputs": [],
   "source": [
    "#debug_layers_dims(LeNet_gen(), train_input.shape)"
   ]
  },
  {
   "cell_type": "code",
   "execution_count": null,
   "metadata": {},
   "outputs": [],
   "source": [
    "target_classes = np.array(train_target.tolist())\n",
    "unique, counts = np.unique(target_classes, return_counts=True)\n",
    "\n",
    "print(dict(zip(unique, counts)))\n",
    "crossEntropyClassesWeigths = Tensor(counts/len(target_classes))"
   ]
  },
  {
   "cell_type": "code",
   "execution_count": null,
   "metadata": {},
   "outputs": [],
   "source": [
    "crit_fun = lambda input_, target : (input_, target)\n",
    "y_hat_fun = lambda y: y.argmax(1)\n",
    "\n",
    "LeNet = LeNet_gen()\n",
    "loss_fun = nn.CrossEntropyLoss(weight=crossEntropyClassesWeigths)\n",
    "learning_rate = 0.05\n",
    "\n",
    "mt = ModelTrainer(LeNet, loss_fun, optim.SGD(LeNet.parameters(), lr=learning_rate), y_hat_fun, crit_fun)\n",
    "hist = mt.fit(train_dataset, test_dataset, epochs=100, batch_size=100, verbose=10)\n",
    "mt.plot_training(\"Learning curves\")"
   ]
  },
  {
   "cell_type": "code",
   "execution_count": null,
   "metadata": {},
   "outputs": [],
   "source": []
  },
  {
   "cell_type": "markdown",
   "metadata": {},
   "source": [
    "## 2) Testing with a fraction of data from trainset (10%)"
   ]
  },
  {
   "cell_type": "code",
   "execution_count": null,
   "metadata": {},
   "outputs": [],
   "source": [
    "test_input.shape"
   ]
  },
  {
   "cell_type": "code",
   "execution_count": null,
   "metadata": {},
   "outputs": [],
   "source": [
    "def generate_biasedset(train_dataset, test_dataset, bias=0.2, plot=False):\n",
    "    train_input = train_dataset[0]\n",
    "    train_target = train_dataset[1]\n",
    "    test_input = test_dataset[0]\n",
    "    test_target = test_dataset[1]\n",
    "    \n",
    "    biased_input = test_input.clone()\n",
    "    biased_target = test_target.clone()\n",
    "\n",
    "    N = len(train_input)\n",
    "    indices_add = np.random.choice(np.arange(0, N), int(bias * N))\n",
    "\n",
    "    M = len(test_input)\n",
    "    indices_replace = np.random.choice(np.arange(0, M), int(bias * M))\n",
    "\n",
    "    for i in range(len(indices_add)):\n",
    "        biased_input[indices_replace[i]] = train_input[indices_add[i]]\n",
    "        biased_target[indices_replace[i]] = train_target[indices_add[i]]\n",
    "        \n",
    "    if plot:\n",
    "        plt.subplot(121)\n",
    "        plt.imshow(biased_input[indices_replace[0]][0])\n",
    "        plt.subplot(122)\n",
    "        plt.imshow(test_input[indices_replace[0]][0])\n",
    "\n",
    "    return (biased_input, biased_target)"
   ]
  },
  {
   "cell_type": "code",
   "execution_count": null,
   "metadata": {},
   "outputs": [],
   "source": [
    "biased_dataset = generate_biasedset(train_dataset, test_dataset, plot=True)"
   ]
  },
  {
   "cell_type": "code",
   "execution_count": null,
   "metadata": {},
   "outputs": [],
   "source": [
    "target_classes = np.array(biased_dataset[1].tolist())\n",
    "unique, counts = np.unique(target_classes, return_counts=True)\n",
    "\n",
    "print(dict(zip(unique, counts)))\n",
    "crossEntropyClassesWeigths = Tensor(counts/len(target_classes))"
   ]
  },
  {
   "cell_type": "code",
   "execution_count": null,
   "metadata": {},
   "outputs": [],
   "source": [
    "crit_fun = lambda input_, target : (input_, target)\n",
    "y_hat_fun = lambda y: y.argmax(1)\n",
    "\n",
    "LeNet = LeNet_gen()\n",
    "loss_fun = nn.CrossEntropyLoss(weight=crossEntropyClassesWeigths)\n",
    "learning_rate = 0.1\n",
    "\n",
    "mt = ModelTrainer(LeNet, loss_fun, optim.SGD(LeNet.parameters(), lr=learning_rate), y_hat_fun, crit_fun)\n",
    "hist = mt.fit(train_dataset, biased_dataset, epochs=40, batch_size=100, verbose=10)\n",
    "mt.plot_training(\"Learning curves\")"
   ]
  },
  {
   "cell_type": "code",
   "execution_count": null,
   "metadata": {},
   "outputs": [],
   "source": [
    "test_input.shape"
   ]
  },
  {
   "cell_type": "code",
   "execution_count": null,
   "metadata": {},
   "outputs": [],
   "source": [
    "def generate_biasedset(train_dataset, test_dataset, bias=0.2, plot=False):\n",
    "    train_input = train_dataset[0]\n",
    "    train_target = train_dataset[1]\n",
    "    test_input = test_dataset[0]\n",
    "    test_target = test_dataset[1]\n",
    "    \n",
    "    biased_input = test_input.clone()\n",
    "    biased_target = test_target.clone()\n",
    "\n",
    "    N = len(train_input)\n",
    "    indices_add = np.random.choice(np.arange(0, N), int(bias * N))\n",
    "\n",
    "    M = len(test_input)\n",
    "    indices_replace = np.random.choice(np.arange(0, M), int(bias * M))\n",
    "\n",
    "    for i in range(len(indices_add)):\n",
    "        biased_input[indices_replace[i]] = train_input[indices_add[i]]\n",
    "        biased_target[indices_replace[i]] = train_target[indices_add[i]]\n",
    "        \n",
    "    if plot:\n",
    "        plt.subplot(121)\n",
    "        plt.imshow(biased_input[indices_replace[0]][0])\n",
    "        plt.subplot(122)\n",
    "        plt.imshow(test_input[indices_replace[0]][0])\n",
    "\n",
    "    return (biased_input, biased_target)"
   ]
  },
  {
   "cell_type": "code",
   "execution_count": null,
   "metadata": {},
   "outputs": [],
   "source": [
    "biased_dataset = generate_biasedset(train_dataset, test_dataset, plot=True)"
   ]
  },
  {
   "cell_type": "code",
   "execution_count": null,
   "metadata": {},
   "outputs": [],
   "source": [
    "target_classes = np.array(biased_dataset[1].tolist())\n",
    "unique, counts = np.unique(target_classes, return_counts=True)\n",
    "\n",
    "print(dict(zip(unique, counts)))\n",
    "crossEntropyClassesWeigths = Tensor(counts/len(target_classes))"
   ]
  },
  {
   "cell_type": "code",
   "execution_count": null,
   "metadata": {},
   "outputs": [],
   "source": [
    "crit_fun = lambda input_, target : (input_, target)\n",
    "y_hat_fun = lambda y: y.argmax(1)\n",
    "\n",
    "LeNet = LeNet_gen()\n",
    "loss_fun = nn.CrossEntropyLoss(weight=crossEntropyClassesWeigths)\n",
    "learning_rate = 0.1\n",
    "\n",
    "mt = ModelTrainer(LeNet, loss_fun, optim.SGD(LeNet.parameters(), lr=learning_rate), y_hat_fun, crit_fun)\n",
    "hist = mt.fit(train_dataset, biased_dataset, epochs=40, batch_size=100, verbose=10)\n",
    "mt.plot_training(\"Learning curves\")"
   ]
  },
  {
   "cell_type": "code",
   "execution_count": null,
   "metadata": {},
   "outputs": [],
   "source": []
  },
  {
   "cell_type": "markdown",
   "metadata": {},
   "source": [
    "## 3) Hooks definition to get layers activations"
   ]
  },
  {
   "cell_type": "code",
   "execution_count": null,
   "metadata": {},
   "outputs": [],
   "source": [
    "activation_output = dict()"
   ]
  },
  {
   "cell_type": "code",
   "execution_count": null,
   "metadata": {},
   "outputs": [],
   "source": [
    "def spyOn(model, dict_, name):\n",
    "    def hook_fun (m, input_, output_): \n",
    "        dict_[name] = output_\n",
    "        print(\"captured output at layer : \"+str(m)) \n",
    "            \n",
    "    handle = model.register_forward_hook(hook_fun)\n",
    "    return handle"
   ]
  },
  {
   "cell_type": "code",
   "execution_count": null,
   "metadata": {},
   "outputs": [],
   "source": [
    "#Can use the handle to remove the hook, don't execute twice on \n",
    "#the same handle, or you won't be able to remove the first\n",
    "#instance of the hook\n",
    "handle = spyOn(LeNet.conv2, activation_output, 'convolution 2')"
   ]
  },
  {
   "cell_type": "code",
   "execution_count": null,
   "metadata": {},
   "outputs": [],
   "source": [
    "LeNet.eval()\n",
    "LeNet(train_input[0].reshape(-1, 1, 28, 28))"
   ]
  },
  {
   "cell_type": "code",
   "execution_count": null,
   "metadata": {},
   "outputs": [],
   "source": [
    "activation_output['convolution 2'].flatten()"
   ]
  },
  {
   "cell_type": "code",
   "execution_count": null,
   "metadata": {},
   "outputs": [],
   "source": []
  },
  {
   "cell_type": "code",
   "execution_count": null,
   "metadata": {},
   "outputs": [],
   "source": []
  },
  {
   "cell_type": "code",
   "execution_count": null,
   "metadata": {},
   "outputs": [],
   "source": []
  },
  {
   "cell_type": "code",
   "execution_count": null,
   "metadata": {},
   "outputs": [],
   "source": [
    "criterion = nn.CrossEntropyLoss()\n",
    "optimizer = optim.Adamax(alexnet.parameters(), lr=0.001)"
   ]
  },
  {
   "cell_type": "code",
   "execution_count": null,
   "metadata": {},
   "outputs": [],
   "source": [
    "target.reshape(-1, 1)"
   ]
  },
  {
   "cell_type": "code",
   "execution_count": null,
   "metadata": {},
   "outputs": [],
   "source": [
    "crit_fun = lambda input_, target : (input_, target.reshape(-1, 1))\n",
    "y_hat_fun = lambda y: y.max(1)\n",
    "\n",
    "mt = ModelTrainer(alexnet32, criterion, optimizer, y_hat_fun, crit_fun)\n",
    "hist = mt.fit((train_input, train_target), (test_input, test_target), epochs=500, batch_size=250, verbose=10)\n",
    "mt.plot_training(\"Learning curves\")"
   ]
  },
  {
   "cell_type": "code",
   "execution_count": null,
   "metadata": {},
   "outputs": [],
   "source": []
  }
 ],
 "metadata": {
  "kernelspec": {
   "display_name": "Python 3",
   "language": "python",
   "name": "python3"
  },
  "language_info": {
   "codemirror_mode": {
    "name": "ipython",
    "version": 3
   },
   "file_extension": ".py",
   "mimetype": "text/x-python",
   "name": "python",
   "nbconvert_exporter": "python",
   "pygments_lexer": "ipython3",
   "version": "3.6.6"
  }
 },
 "nbformat": 4,
 "nbformat_minor": 2
}
