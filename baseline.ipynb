{
 "cells": [
  {
   "cell_type": "code",
   "execution_count": 24,
   "metadata": {},
   "outputs": [
    {
     "name": "stdout",
     "output_type": "stream",
     "text": [
      "The autoreload extension is already loaded. To reload it, use:\n",
      "  %reload_ext autoreload\n"
     ]
    }
   ],
   "source": [
    "%load_ext autoreload\n",
    "%autoreload 2\n",
    "\n",
    "import torch\n",
    "from torch import nn\n",
    "import torchvision.datasets as datasets\n",
    "import torchvision.models as models\n",
    "import torch.optim as optim\n",
    "from torch.utils.data import DataLoader\n",
    "\n",
    "import sys\n",
    "sys.path.append('./python_files/')\n",
    "from model_trainer import ModelTrainer\n",
    "from utils import *\n",
    "from data_loader import load_data\n",
    "from nn_modules import View\n",
    "import tqdm"
   ]
  },
  {
   "cell_type": "code",
   "execution_count": 25,
   "metadata": {},
   "outputs": [
    {
     "data": {
      "text/plain": [
       "'0.4.1'"
      ]
     },
     "execution_count": 25,
     "metadata": {},
     "output_type": "execute_result"
    }
   ],
   "source": [
    "torch.__version__"
   ]
  },
  {
   "cell_type": "code",
   "execution_count": 26,
   "metadata": {},
   "outputs": [
    {
     "name": "stdout",
     "output_type": "stream",
     "text": [
      "* Using MNIST\n",
      "** Use 60000 train and 10000 test samples\n"
     ]
    }
   ],
   "source": [
    "train_input, train_target, test_input, test_target = load_data(cifar=False, normalize=True, flatten=False, full=True)\n",
    "train_target = train_target.long()\n",
    "test_target = test_target.long()"
   ]
  },
  {
   "cell_type": "code",
   "execution_count": 27,
   "metadata": {},
   "outputs": [
    {
     "data": {
      "text/plain": [
       "60000"
      ]
     },
     "execution_count": 27,
     "metadata": {},
     "output_type": "execute_result"
    }
   ],
   "source": [
    "len(train_input)"
   ]
  },
  {
   "cell_type": "code",
   "execution_count": 28,
   "metadata": {},
   "outputs": [
    {
     "name": "stdout",
     "output_type": "stream",
     "text": [
      "5\n"
     ]
    },
    {
     "data": {
      "image/png": "[encoded data removed]",
      "text/plain": [
       "<Figure size 432x288 with 1 Axes>"
      ]
     },
     "metadata": {
      "needs_background": "light"
     },
     "output_type": "display_data"
    }
   ],
   "source": [
    "i = 420\n",
    "plt.imshow(train_input[i, 0, :, :])\n",
    "print(train_target[i].item())"
   ]
  },
  {
   "cell_type": "markdown",
   "metadata": {},
   "source": [
    "## 1) LeNet with disjoint trainset and testset"
   ]
  },
  {
   "cell_type": "code",
   "execution_count": 7,
   "metadata": {},
   "outputs": [],
   "source": [
    "train_dataset = (train_input, train_target)\n",
    "test_dataset = (test_input, test_target)\n",
    "\n",
    "in_channels = train_input.shape[1]\n",
    "out_channels = 10\n",
    "\n",
    "class Net(nn.Module):\n",
    "    def __init__(self):\n",
    "        super(Net, self).__init__()\n",
    "        self.conv1 = nn.Conv2d(1, 32, kernel_size = 5)\n",
    "        self.conv2 = nn.Conv2d(32, 64, kernel_size = 5)\n",
    "        self.fc1 = nn.Linear(256, 200)\n",
    "        self.fc2 = nn.Linear(200, 10)\n",
    "\n",
    "    def forward(self, x):\n",
    "        x = F.relu(F.max_pool2d(self.conv1(x), kernel_size = 3))\n",
    "        x = F.relu(F.max_pool2d(self.conv2(x), kernel_size = 2))\n",
    "        x = x.view(x.size(0), -1)\n",
    "        x = F.relu(self.fc1(x))\n",
    "        x = self.fc2(x)\n",
    "        return x\n",
    "\n",
    "    \n",
    "LeNet_gen = lambda : Net()\n",
    "\n",
    "\n",
    "LeNet_gen2 = lambda : nn.Sequential(\n",
    "        nn.Conv2d(in_channels, 6, kernel_size=(5, 5)),\n",
    "        nn.ReLU(),\n",
    "        nn.MaxPool2d(kernel_size=2),\n",
    "\n",
    "        nn.Conv2d(6, 16, kernel_size=(5,5)),\n",
    "        nn.ReLU(),\n",
    "        nn.MaxPool2d(kernel_size=2),\n",
    "\n",
    "        View([-1]),\n",
    "\n",
    "        nn.Linear(256, 120),\n",
    "        nn.ReLU(),\n",
    "        nn.Dropout(),\n",
    "\n",
    "        nn.Linear(120, 84),\n",
    "        nn.ReLU(),\n",
    "        nn.Dropout(),\n",
    "\n",
    "        nn.Linear(84, out_channels),\n",
    "        nn.Sigmoid()\n",
    "    )"
   ]
  },
  {
   "cell_type": "code",
   "execution_count": 8,
   "metadata": {},
   "outputs": [],
   "source": [
    "#debug_layers_dims(LeNet_gen(), train_input.shape)"
   ]
  },
  {
   "cell_type": "code",
   "execution_count": 9,
   "metadata": {},
   "outputs": [
    {
     "name": "stdout",
     "output_type": "stream",
     "text": [
      "{0: 5923, 1: 6742, 2: 5958, 3: 6131, 4: 5842, 5: 5421, 6: 5918, 7: 6265, 8: 5851, 9: 5949}\n"
     ]
    }
   ],
   "source": [
    "target_classes = np.array(train_target.tolist())\n",
    "unique, counts = np.unique(target_classes, return_counts=True)\n",
    "\n",
    "print(dict(zip(unique, counts)))\n",
    "crossEntropyClassesWeigths = Tensor(counts/len(target_classes))"
   ]
  },
  {
   "cell_type": "code",
   "execution_count": 10,
   "metadata": {},
   "outputs": [
    {
     "name": "stdout",
     "output_type": "stream",
     "text": [
      "******************************** Train log ************************************\n",
      "                     train loss       train acc        val loss         val acc\n",
      "0                       0.00142           0.599         0.00009           0.692\n",
      "10                      0.00007           0.978         0.00001           0.981\n",
      "20                      0.00005           0.986         0.00000           0.985\n",
      "30                      0.00003           0.990         0.00000           0.988\n",
      "39                      0.00003           0.992         0.00000           0.988\n",
      "*******************************************************************************\n"
     ]
    },
    {
     "data": {
      "image/png": "[encoded data removed]",
      "text/plain": [
       "<Figure size 864x504 with 2 Axes>"
      ]
     },
     "metadata": {
      "needs_background": "light"
     },
     "output_type": "display_data"
    }
   ],
   "source": [
    "crit_fun = lambda input_, target : (input_, target)\n",
    "y_hat_fun = lambda y: y.argmax(1)\n",
    "\n",
    "LeNet = LeNet_gen()\n",
    "loss_fun = nn.CrossEntropyLoss(weight=crossEntropyClassesWeigths)\n",
    "learning_rate = 0.05\n",
    "\n",
    "mt = ModelTrainer(LeNet, loss_fun, optim.SGD(LeNet.parameters(), lr=learning_rate), y_hat_fun, crit_fun)\n",
    "hist = mt.fit(train_dataset, test_dataset, epochs=40, batch_size=1000, verbose=10)\n",
    "mt.plot_training(\"Learning curves\")"
   ]
  },
  {
   "cell_type": "code",
   "execution_count": null,
   "metadata": {},
   "outputs": [],
   "source": []
  },
  {
   "cell_type": "markdown",
   "metadata": {},
   "source": [
    "## 2) Testing with a fraction of data from trainset (10%)"
   ]
  },
  {
   "cell_type": "code",
   "execution_count": null,
   "metadata": {},
   "outputs": [],
   "source": [
    "test_input.shape"
   ]
  },
  {
   "cell_type": "code",
   "execution_count": 43,
   "metadata": {},
   "outputs": [],
   "source": [
    "def generate_biasedset(train_dataset, test_dataset, bias=0.2, plot=False):\n",
    "    train_input = train_dataset[0]\n",
    "    train_target = train_dataset[1]\n",
    "    test_input = test_dataset[0]\n",
    "    test_target = test_dataset[1]\n",
    "    \n",
    "    biased_input = test_input.clone()\n",
    "    biased_target = test_target.clone()\n",
    "\n",
    "    N = len(train_input)\n",
    "    indices_add = np.random.choice(np.arange(0, N), int(bias * N))\n",
    "\n",
    "    M = len(test_input)\n",
    "    indices_replace = np.random.choice(np.arange(0, M), int(bias * M))\n",
    "\n",
    "    for i in range(len(indices_add)):\n",
    "        biased_input[indices_replace[i]] = train_input[indices_add[i]]\n",
    "        biased_target[indices_replace[i]] = train_target[indices_add[i]]\n",
    "        \n",
    "    if plot:\n",
    "        plt.subplot(121)\n",
    "        plt.imshow(biased_input[indices_replace[0]][0])\n",
    "        plt.subplot(122)\n",
    "        plt.imshow(test_input[indices_replace[0]][0])\n",
    "\n",
    "    return (biased_input, biased_target)\n",
    "\n",
    "def generate_newdataset(train_dataset, test_dataset, split=0.7):\n",
    "    train_input = train_dataset[0]\n",
    "    train_target = train_dataset[1]\n",
    "    test_input = test_dataset[0]\n",
    "    test_target = test_dataset[1]\n",
    "    \n",
    "    N_train = int(0.7* len(train_input))\n",
    "    N_test = int(0.7 * len(test_input))\n",
    "    \n",
    "    g_train_input = torch.cat((train_input[:N_train], test_input[:N_test]), 0)\n",
    "    g_train_target = torch.cat((torch.ones(N_train), torch.zeros(N_test)), 0)\n",
    "    g_test_input = torch.cat((train_input[N_train:], test_input[N_test:]), 0)\n",
    "    g_test_target = torch.cat((torch.ones(len(train_input) - N_train), torch.zeros(len(test_input) - N_test)), 0)\n",
    "    \n",
    "    if train_input.is_cuda:\n",
    "        g_train_target = g_train_target.cuda()\n",
    "        g_test_target = g_test_target.cuda()\n",
    "    \n",
    "    return g_train_input, g_train_target, g_test_input, g_test_target\n",
    "    \n",
    "    \n",
    "\n",
    "def get_snapshots_f(model, layers, layer_names, data):\n",
    "    with torch.no_grad():\n",
    "        model.eval()\n",
    "        \n",
    "        idxs = torch.randperm(data.shape[0])\n",
    "        output_d, handle_d = spyOn(layers, layer_names)\n",
    "        _ = model(data[idxs])\n",
    "        \n",
    "        outputs = None\n",
    "        \n",
    "        for name in layer_names:\n",
    "            output = output_d[name].reshape(data.shape[0], -1)\n",
    "            if outputs is None:\n",
    "                outputs = output\n",
    "            else:\n",
    "                outputs = torch.cat((outputs, output), 0)\n",
    "            \n",
    "        handle.remove()\n",
    "                \n",
    "        return outputs\n",
    "            "
   ]
  },
  {
   "cell_type": "code",
   "execution_count": 46,
   "metadata": {},
   "outputs": [],
   "source": [
    "def generate_dataset_g(model, train_dataset, test_dataset, layers, layer_names, split=0.7):\n",
    "    new_train_input, new_train_target, new_test_input, new_test_target = generate_newdataset(train_dataset, test_dataset, split)\n",
    "    \n",
    "    g_train_input = get_snapshots_f(model, layers, layer_names, new_train_input)\n",
    "    g_test_input = get_snapshots_f(model, layers, layer_names, new_test_input)\n",
    "    \n",
    "    return (g_train_input, new_train_target), (g_test_input, new_test_target)"
   ]
  },
  {
   "cell_type": "code",
   "execution_count": 48,
   "metadata": {},
   "outputs": [],
   "source": [
    "g_train, g_test = generate_dataset_g(LeNet, train_dataset, test_dataset, [LeNet.conv2], ['conv 2'])"
   ]
  },
  {
   "cell_type": "code",
   "execution_count": 51,
   "metadata": {},
   "outputs": [
    {
     "data": {
      "text/plain": [
       "tensor([1., 1., 1.,  ..., 0., 0., 0.])"
      ]
     },
     "execution_count": 51,
     "metadata": {},
     "output_type": "execute_result"
    }
   ],
   "source": [
    "g_train[1]"
   ]
  },
  {
   "cell_type": "code",
   "execution_count": 37,
   "metadata": {},
   "outputs": [],
   "source": [
    "snapshots = get_snapshots_f(LeNet, g_train[0])"
   ]
  },
  {
   "cell_type": "code",
   "execution_count": 40,
   "metadata": {},
   "outputs": [
    {
     "data": {
      "text/plain": [
       "torch.Size([49000])"
      ]
     },
     "execution_count": 40,
     "metadata": {},
     "output_type": "execute_result"
    }
   ],
   "source": [
    "g_train[1].shape"
   ]
  },
  {
   "cell_type": "code",
   "execution_count": 39,
   "metadata": {},
   "outputs": [
    {
     "data": {
      "text/plain": [
       "torch.Size([49000, 1024])"
      ]
     },
     "execution_count": 39,
     "metadata": {},
     "output_type": "execute_result"
    }
   ],
   "source": [
    "snapshots.shape"
   ]
  },
  {
   "cell_type": "code",
   "execution_count": 114,
   "metadata": {},
   "outputs": [
    {
     "name": "stdout",
     "output_type": "stream",
     "text": [
      "{0: 85, 1: 121, 2: 110, 3: 112, 4: 108, 5: 95, 6: 80, 7: 105, 8: 86, 9: 98}\n"
     ]
    }
   ],
   "source": [
    "target_classes = np.array(biased_dataset[1].tolist())\n",
    "unique, counts = np.unique(target_classes, return_counts=True)\n",
    "\n",
    "print(dict(zip(unique, counts)))\n",
    "crossEntropyClassesWeigths = Tensor(counts/len(target_classes))"
   ]
  },
  {
   "cell_type": "code",
   "execution_count": null,
   "metadata": {},
   "outputs": [],
   "source": [
    "crit_fun = lambda input_, target : (input_, target)\n",
    "y_hat_fun = lambda y: y.argmax(1)\n",
    "\n",
    "LeNet = LeNet_gen()\n",
    "loss_fun = nn.CrossEntropyLoss(weight=crossEntropyClassesWeigths)\n",
    "learning_rate = 0.1\n",
    "\n",
    "mt = ModelTrainer(LeNet, loss_fun, optim.SGD(LeNet.parameters(), lr=learning_rate), y_hat_fun, crit_fun)\n",
    "hist = mt.fit(train_dataset, biased_dataset, epochs=40, batch_size=100, verbose=10)\n",
    "mt.plot_training(\"Learning curves\")"
   ]
  },
  {
   "cell_type": "code",
   "execution_count": null,
   "metadata": {},
   "outputs": [],
   "source": [
    "## 3) Hooks definition to get layers activations"
   ]
  },
  {
   "cell_type": "code",
   "execution_count": 13,
   "metadata": {},
   "outputs": [],
   "source": [
    "activation_output = dict()"
   ]
  },
  {
   "cell_type": "code",
   "execution_count": 14,
   "metadata": {},
   "outputs": [],
   "source": [
    "def spyOn(model, dict_, name):\n",
    "    def hook_fun (m, input_, output_): \n",
    "        dict_[name] = output_\n",
    "        #print(\"captured output at layer : \"+str(m)) \n",
    "            \n",
    "    handle = model.register_forward_hook(hook_fun)\n",
    "    return handle"
   ]
  },
  {
   "cell_type": "code",
   "execution_count": 15,
   "metadata": {},
   "outputs": [],
   "source": [
    "#Can use the handle to remove the hook, don't execute twice on \n",
    "#the same handle, or you won't be able to remove the first\n",
    "#instance of the hook\n",
    "handle = spyOn(LeNet.conv2, activation_output, 'convolution 2')"
   ]
  },
  {
   "cell_type": "code",
   "execution_count": 16,
   "metadata": {},
   "outputs": [
    {
     "data": {
      "text/plain": [
       "tensor([[-1.9312, -3.5758, -2.0006,  9.7285, -8.2027, 13.8572, -6.2496, -4.0572,\n",
       "          3.4765,  1.6258],\n",
       "        [16.1245, -4.6188,  3.4893, -5.6389, -3.9808, -2.4764,  1.5334, -4.0126,\n",
       "         -1.0302,  0.1764],\n",
       "        [-6.5326,  0.3822,  2.0937, -1.7134, 13.2932, -2.1166, -6.1563,  5.6843,\n",
       "         -3.0532,  3.2147]], grad_fn=<ThAddmmBackward>)"
      ]
     },
     "execution_count": 16,
     "metadata": {},
     "output_type": "execute_result"
    }
   ],
   "source": [
    "LeNet.eval()\n",
    "LeNet(train_input[0:3].reshape(-1, 1, 28, 28))"
   ]
  },
  {
   "cell_type": "code",
   "execution_count": 42,
   "metadata": {},
   "outputs": [
    {
     "ename": "TypeError",
     "evalue": "tensor() missing 1 required positional arguments: \"data\"",
     "output_type": "error",
     "traceback": [
      "\u001b[0;31m-------------------------------------------------------------------\u001b[0m",
      "\u001b[0;31mTypeError\u001b[0m                         Traceback (most recent call last)",
      "\u001b[0;32m<ipython-input-42-4c5d294e7176>\u001b[0m in \u001b[0;36m<module>\u001b[0;34m()\u001b[0m\n\u001b[0;32m----> 1\u001b[0;31m \u001b[0mtorch\u001b[0m\u001b[0;34m.\u001b[0m\u001b[0mcat\u001b[0m\u001b[0;34m(\u001b[0m\u001b[0;34m(\u001b[0m\u001b[0mtorch\u001b[0m\u001b[0;34m.\u001b[0m\u001b[0mtensor\u001b[0m\u001b[0;34m(\u001b[0m\u001b[0;34m)\u001b[0m\u001b[0;34m,\u001b[0m \u001b[0mactivation_output\u001b[0m\u001b[0;34m[\u001b[0m\u001b[0;34m'convolution 2'\u001b[0m\u001b[0;34m]\u001b[0m\u001b[0;34m.\u001b[0m\u001b[0mreshape\u001b[0m\u001b[0;34m(\u001b[0m\u001b[0;36m3\u001b[0m\u001b[0;34m,\u001b[0m \u001b[0;34m-\u001b[0m\u001b[0;36m1\u001b[0m\u001b[0;34m)\u001b[0m\u001b[0;34m)\u001b[0m\u001b[0;34m,\u001b[0m \u001b[0;36m0\u001b[0m\u001b[0;34m)\u001b[0m\u001b[0;34m\u001b[0m\u001b[0m\n\u001b[0m",
      "\u001b[0;31mTypeError\u001b[0m: tensor() missing 1 required positional arguments: \"data\""
     ]
    }
   ],
   "source": [
    "torch.cat((torch.tensor(), activation_output['convolution 2'].reshape(3, -1)), 0)"
   ]
  },
  {
   "cell_type": "code",
   "execution_count": 18,
   "metadata": {},
   "outputs": [],
   "source": [
    "handle.remove()"
   ]
  },
  {
   "cell_type": "code",
   "execution_count": null,
   "metadata": {},
   "outputs": [],
   "source": []
  },
  {
   "cell_type": "code",
   "execution_count": null,
   "metadata": {},
   "outputs": [],
   "source": []
  },
  {
   "cell_type": "code",
   "execution_count": null,
   "metadata": {},
   "outputs": [],
   "source": [
    "criterion = nn.CrossEntropyLoss()\n",
    "optimizer = optim.Adamax(alexnet.parameters(), lr=0.001)"
   ]
  },
  {
   "cell_type": "code",
   "execution_count": null,
   "metadata": {},
   "outputs": [],
   "source": [
    "target.reshape(-1, 1)"
   ]
  },
  {
   "cell_type": "code",
   "execution_count": null,
   "metadata": {},
   "outputs": [],
   "source": [
    "crit_fun = lambda input_, target : (input_, target.reshape(-1, 1))\n",
    "y_hat_fun = lambda y: y.max(1)\n",
    "\n",
    "mt = ModelTrainer(alexnet32, criterion, optimizer, y_hat_fun, crit_fun)\n",
    "hist = mt.fit((train_input, train_target), (test_input, test_target), epochs=500, batch_size=250, verbose=10)\n",
    "mt.plot_training(\"Learning curves\")"
   ]
  },
  {
   "cell_type": "code",
   "execution_count": null,
   "metadata": {},
   "outputs": [],
   "source": []
  }
 ],
 "metadata": {
  "kernelspec": {
   "display_name": "Python [conda env:anaconda]",
   "language": "python",
   "name": "conda-env-anaconda-py"
  },
  "language_info": {
   "codemirror_mode": {
    "name": "ipython",
    "version": 3
   },
   "file_extension": ".py",
   "mimetype": "text/x-python",
   "name": "python",
   "nbconvert_exporter": "python",
   "pygments_lexer": "ipython3",
   "version": "3.6.6"
  }
 },
 "nbformat": 4,
 "nbformat_minor": 2
}
